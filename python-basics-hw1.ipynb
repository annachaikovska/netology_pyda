{
 "cells": [
  {
   "cell_type": "markdown",
   "metadata": {},
   "source": [
    "**Задание 1**. Даны 2 строки: *long_phrase* и *short_phrase*. \n",
    "Напишите код, который проверяет действительно ли длинная фраза *long_phrase* длиннее короткой *short_phrase*. И выводит *True* или *False* в зависимости от результата сравнения."
   ]
  },
  {
   "cell_type": "code",
   "execution_count": 3,
   "metadata": {},
   "outputs": [],
   "source": [
    "long_phrase = 'Насколько проще было бы писать программы, если бы не заказчики'\n",
    "short_phrase = '640Кб должно хватить для любых задач. Билл Гейтс (по легенде)'"
   ]
  },
  {
   "cell_type": "code",
   "execution_count": 4,
   "metadata": {},
   "outputs": [
    {
     "data": {
      "text/plain": [
       "True"
      ]
     },
     "execution_count": 4,
     "metadata": {},
     "output_type": "execute_result"
    }
   ],
   "source": [
    "long_phrase > short_phrase"
   ]
  },
  {
   "cell_type": "markdown",
   "metadata": {},
   "source": [
    "**Задание 2**. Дано значение объема файла в байтах. Напишите перевод этого значения в мегабайты в формате: \"*Объем файла равен 213.68Mb*\""
   ]
  },
  {
   "cell_type": "code",
   "execution_count": 53,
   "metadata": {},
   "outputs": [
    {
     "name": "stdout",
     "output_type": "stream",
     "text": [
      "Введите значение в байтах 224059720\n",
      "Объем файла равен 213.68 Mb\n"
     ]
    }
   ],
   "source": [
    "x = int(input('Введите значение в байтах '))\n",
    "y = x/1048576\n",
    "print ('Объем файла равен',round(y,2), 'Mb')"
   ]
  },
  {
   "cell_type": "markdown",
   "metadata": {},
   "source": [
    "**Задание 3**. Разработать приложение для определения знака зодиака по дате рождения. Пример:\n",
    "\n",
    "Введите месяц: март\n",
    "\n",
    "Введите число: 6\n",
    "\n",
    "Вывод:\n",
    "Рыбы"
   ]
  },
  {
   "cell_type": "code",
   "execution_count": 67,
   "metadata": {},
   "outputs": [
    {
     "name": "stdout",
     "output_type": "stream",
     "text": [
      "Введите месяц март\n",
      "Введите число 6\n",
      "Рыбы\n",
      "Конец программы\n"
     ]
    }
   ],
   "source": [
    "month = input('Введите месяц ')\n",
    "date = int(input('Введите число '))\n",
    "if (month == 'апрель' and date >= 21) or (month == 'май' and date <= 20):\n",
    "    print ('Телец')\n",
    "elif (month == 'май' and date >= 21) or (month == 'июнь' and date <= 21):\n",
    "    print ('Близнецы')\n",
    "elif (month == 'июнь' and date >= 22) or (month == 'июль' and date <= 22):\n",
    "    print ('Рак')\n",
    "elif (month == 'июль' and date >= 23) or (month == 'август' and date <= 23):\n",
    "    print ('Лев')\n",
    "elif (month == 'август' and date >= 24) or (month == 'сентябрь' and date <= 23):\n",
    "    print ('Дева')\n",
    "elif (month == 'сентябрь' and date >= 24) or (month == 'октябрь' and date <= 23):\n",
    "    print ('Весы')\n",
    "elif (month == 'октябрь' and date >= 24) or (month == 'ноябрь' and date <= 22):\n",
    "    print ('Скорпион')\n",
    "elif (month == 'ноябрь' and date >= 23) or (month == 'декабрь' and date <= 21):\n",
    "    print ('Стрелец')\n",
    "elif (month == 'декабрь' and date >= 22) or (month == 'январь' and date <= 20):\n",
    "    print ('Козерог')\n",
    "elif (month == 'январь' and date >= 21) or (month == 'февраль' and date <= 20):\n",
    "    print ('Водолей')\n",
    "elif (month == 'февраль' and date >= 21) or (month == 'март' and date <= 20):\n",
    "    print ('Рыбы')\n",
    "elif (month == 'март' and date >= 21) or (month == 'апрель' and date <= 20):\n",
    "    print ('Овен')\n",
    "print('Конец программы')"
   ]
  },
  {
   "cell_type": "code",
   "execution_count": 70,
   "metadata": {},
   "outputs": [
    {
     "name": "stdout",
     "output_type": "stream",
     "text": [
      "Введите месяц март\n",
      "Введите число 6\n",
      "Вывод:  Рыбы\n",
      "Конец программы\n"
     ]
    }
   ],
   "source": [
    "month = input('Введите месяц ')\n",
    "date = int(input('Введите число '))\n",
    "if (month == 'апрель' and date >= 21) or (month == 'май' and date <= 20):\n",
    "    zodiac = 'Телец'\n",
    "elif (month == 'май' and date >= 21) or (month == 'июнь' and date <= 21):\n",
    "    zodiac = ('Близнецы')\n",
    "elif (month == 'июнь' and date >= 22) or (month == 'июль' and date <= 22):\n",
    "    zodiac =('Рак')\n",
    "elif (month == 'июль' and date >= 23) or (month == 'август' and date <= 23):\n",
    "    zodiac =('Лев')\n",
    "elif (month == 'август' and date >= 24) or (month == 'сентябрь' and date <= 23):\n",
    "    zodiac = ('Дева')\n",
    "elif (month == 'сентябрь' and date >= 24) or (month == 'октябрь' and date <= 23):\n",
    "    zodiac = ('Весы')\n",
    "elif (month == 'октябрь' and date >= 24) or (month == 'ноябрь' and date <= 22):\n",
    "    zodiac = ('Скорпион')\n",
    "elif (month == 'ноябрь' and date >= 23) or (month == 'декабрь' and date <= 21):\n",
    "    zodiac = ('Стрелец')\n",
    "elif (month == 'декабрь' and date >= 22) or (month == 'январь' and date <= 20):\n",
    "    zodiac = ('Козерог')\n",
    "elif (month == 'январь' and date >= 21) or (month == 'февраль' and date <= 20):\n",
    "    zodiac = ('Водолей')\n",
    "elif (month == 'февраль' and date >= 21) or (month == 'март' and date <= 20):\n",
    "    zodiac = ('Рыбы')\n",
    "elif (month == 'март' and date >= 21) or (month == 'апрель' and date <= 20):\n",
    "    zodiac = ('Овен')\n",
    "print ('Вывод: ', zodiac)\n",
    "print('Конец программы')"
   ]
  },
  {
   "cell_type": "code",
   "execution_count": 68,
   "metadata": {},
   "outputs": [
    {
     "name": "stdout",
     "output_type": "stream",
     "text": [
      "Введите месяц март\n",
      "Введите число 6\n",
      "Рыбы\n",
      "Конец программы\n"
     ]
    }
   ],
   "source": [
    "month = input('Введите месяц ')\n",
    "date = int(input('Введите число '))\n",
    "if month == \"март\":\n",
    "    if date <= 20:\n",
    "        print ('Рыбы')\n",
    "    else:\n",
    "        print ('Овен')\n",
    "elif month == 'апрель':\n",
    "    if date <= 20:\n",
    "        print ('Овен')\n",
    "    else:\n",
    "        print ('Телец')\n",
    "print('Конец программы')"
   ]
  },
  {
   "cell_type": "markdown",
   "metadata": {},
   "source": [
    "**Задание 4**. Нужно разработать приложение для финансового планирования.\n",
    "Приложение учитывает сколько уходит на ипотеку, \"на жизнь\" и сколько нужно отложить на пенсию.\n",
    "Пользователь вводит:\n",
    "- заработанную плату в месяц.\n",
    "- сколько процентов от ЗП уходит на ипотеку.\n",
    "- сколько процентов от ЗП уходит \"на жизнь\".\n",
    "- сколько раз приходит премия в год.\n",
    "\n",
    "Остальная часть заработанной платы откладывается на пенсию.\n",
    "\n",
    "Также пользователю приходит премия в размере зарплаты, от которой половина уходит на отпуск, а вторая половина откладывается.\n",
    "\n",
    "Программа должна учитывать сколько премий было в год.\n",
    "\n",
    "Нужно вывести сколько денег тратит пользователь на ипотеку и сколько он накопит за год.\n",
    "\n",
    "Пример:\n",
    "\n",
    "Введите заработанную плату в месяц: 100000\n",
    "\n",
    "Введите сколько процентов уходит на ипотеку: 30\n",
    "\n",
    "Введите сколько процентов уходит на жизнь: 50\n",
    "\n",
    "Введите количество премий за год: 2\n",
    "\n",
    "Вывод:\n",
    "На ипотеку было потрачено: 360000 рублей\n",
    "Было накоплено: 340000 рублей"
   ]
  },
  {
   "cell_type": "code",
   "execution_count": 78,
   "metadata": {},
   "outputs": [
    {
     "name": "stdout",
     "output_type": "stream",
     "text": [
      "Введите месячную зарплату 100000\n",
      "Введите % от ЗП на ипотеку 30\n",
      "Введите % от ЗП \"на жизнь\" 50\n",
      "Количество премий в году 2\n",
      "На ипотеку было потрачено:  360000.0 рублей Было накоплено:  340000.0 рублей\n"
     ]
    }
   ],
   "source": [
    "monthly_salary = int(input('Введите месячную зарплату '))\n",
    "mortgage = int(input('Введите % от ЗП на ипотеку '))\n",
    "life_costs = int(input('Введите % от ЗП \"на жизнь\" '))\n",
    "bonus_quantity = int(input('Количество премий в году '))\n",
    "mortgage_year = monthly_salary*mortgage/100*12\n",
    "retirement = (monthly_salary - monthly_salary*mortgage/100 - monthly_salary*life_costs/100)*12\\\n",
    "+bonus_quantity*monthly_salary*0.5\n",
    "print ('На ипотеку было потрачено: ', mortgage_year, 'рублей', 'Было накоплено: ',retirement,'рублей')"
   ]
  },
  {
   "cell_type": "markdown",
   "metadata": {},
   "source": [
    "Дополнительные задания"
   ]
  },
  {
   "cell_type": "markdown",
   "metadata": {},
   "source": [
    "Задание 1"
   ]
  },
  {
   "cell_type": "code",
   "execution_count": 7,
   "metadata": {},
   "outputs": [
    {
     "name": "stdout",
     "output_type": "stream",
     "text": [
      "1\n",
      "2\n",
      "Fizz\n",
      "4\n",
      "Buzz\n",
      "Fizz\n",
      "7\n",
      "8\n",
      "Fizz\n",
      "Buzz\n",
      "11\n",
      "Fizz\n",
      "13\n",
      "14\n",
      "Fizz Buzz\n",
      "16\n",
      "17\n",
      "Fizz\n",
      "19\n",
      "Buzz\n",
      "Fizz\n",
      "22\n",
      "23\n",
      "Fizz\n",
      "Buzz\n",
      "26\n",
      "Fizz\n",
      "28\n",
      "29\n",
      "Fizz Buzz\n",
      "31\n",
      "32\n",
      "Fizz\n",
      "34\n",
      "Buzz\n",
      "Fizz\n",
      "37\n",
      "38\n",
      "Fizz\n",
      "Game over\n"
     ]
    }
   ],
   "source": [
    "x = 1\n",
    "while x < 40:\n",
    "    if (x%3 == 0 and x %5 == 0):\n",
    "        print ('Fizz Buzz')\n",
    "    elif x % 3 == 0:\n",
    "        print ('Fizz')\n",
    "    elif x % 5 == 0:\n",
    "        print ('Buzz')\n",
    "    else:\n",
    "        print (x)\n",
    "    x=x+1\n",
    "print ('Game over')"
   ]
  },
  {
   "cell_type": "markdown",
   "metadata": {},
   "source": [
    "Задание 2"
   ]
  },
  {
   "cell_type": "code",
   "execution_count": null,
   "metadata": {},
   "outputs": [],
   "source": []
  },
  {
   "cell_type": "markdown",
   "metadata": {},
   "source": [
    "Задание 3"
   ]
  },
  {
   "cell_type": "code",
   "execution_count": 39,
   "metadata": {},
   "outputs": [
    {
     "name": "stdout",
     "output_type": "stream",
     "text": [
      "test\n",
      "es\n"
     ]
    }
   ],
   "source": [
    "x = input ()\n",
    "if len(x) % 2 == 0:\n",
    "    print (x[int(len(x)/2-1):int(len(x)/2+1)])\n",
    "if len(x) % 2 !=0:\n",
    "    print (x[int(len(x)/2-0.5)])"
   ]
  },
  {
   "cell_type": "code",
   "execution_count": null,
   "metadata": {},
   "outputs": [],
   "source": []
  }
 ],
 "metadata": {
  "kernelspec": {
   "display_name": "Python 3",
   "language": "python",
   "name": "python3"
  },
  "language_info": {
   "codemirror_mode": {
    "name": "ipython",
    "version": 3
   },
   "file_extension": ".py",
   "mimetype": "text/x-python",
   "name": "python",
   "nbconvert_exporter": "python",
   "pygments_lexer": "ipython3",
   "version": "3.7.4"
  }
 },
 "nbformat": 4,
 "nbformat_minor": 2
}
